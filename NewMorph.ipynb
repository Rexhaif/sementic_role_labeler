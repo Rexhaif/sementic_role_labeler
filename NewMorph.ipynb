{
 "cells": [
  {
   "cell_type": "code",
   "execution_count": 1,
   "metadata": {},
   "outputs": [],
   "source": [
    "from pymorphy2 import MorphAnalyzer"
   ]
  },
  {
   "cell_type": "code",
   "execution_count": 2,
   "metadata": {},
   "outputs": [],
   "source": [
    "from rich import print, inspect"
   ]
  },
  {
   "cell_type": "code",
   "execution_count": 3,
   "metadata": {},
   "outputs": [],
   "source": [
    "morph = MorphAnalyzer()"
   ]
  },
  {
   "cell_type": "code",
   "execution_count": 4,
   "metadata": {},
   "outputs": [],
   "source": [
    "x = morph.parse(\"всё\")"
   ]
  },
  {
   "cell_type": "code",
   "execution_count": 5,
   "metadata": {},
   "outputs": [],
   "source": [
    "form0 = x[0]"
   ]
  },
  {
   "cell_type": "code",
   "execution_count": 6,
   "metadata": {},
   "outputs": [
    {
     "data": {
      "text/plain": [
       "frozenset({'PRCL'})"
      ]
     },
     "execution_count": 6,
     "metadata": {},
     "output_type": "execute_result"
    }
   ],
   "source": [
    "form0.tag.grammemes"
   ]
  },
  {
   "cell_type": "code",
   "execution_count": 7,
   "metadata": {},
   "outputs": [],
   "source": [
    "import spacy_udpipe"
   ]
  },
  {
   "cell_type": "code",
   "execution_count": 8,
   "metadata": {},
   "outputs": [],
   "source": [
    "model = spacy_udpipe.load_from_path(\n",
    "    lang=\"ru\",\n",
    "    path=\"./data/models/russian-syntagrus-ud-2.5-191206.udpipe\",\n",
    "    meta={\"description\": \"Custom 'hr' model\"}\n",
    ")"
   ]
  },
  {
   "cell_type": "code",
   "execution_count": 10,
   "metadata": {},
   "outputs": [],
   "source": [
    "doc = model(\"Всё решено!\")"
   ]
  },
  {
   "cell_type": "code",
   "execution_count": 11,
   "metadata": {},
   "outputs": [],
   "source": [
    "tags = list(doc)"
   ]
  },
  {
   "cell_type": "code",
   "execution_count": 63,
   "metadata": {},
   "outputs": [
    {
     "data": {
      "text/plain": [
       "(Animacy=Inan|Case=Nom|Gender=Neut|Number=Sing, 'PRON')"
      ]
     },
     "execution_count": 63,
     "metadata": {},
     "output_type": "execute_result"
    }
   ],
   "source": [
    "tags[0].morph, tags[0].pos_"
   ]
  },
  {
   "cell_type": "code",
   "execution_count": 64,
   "metadata": {},
   "outputs": [
    {
     "data": {
      "text/plain": [
       "(Aspect=Perf|Gender=Neut|Number=Sing|Tense=Past|Variant=Short|VerbForm=Part|Voice=Pass,\n",
       " 'VERB')"
      ]
     },
     "execution_count": 64,
     "metadata": {},
     "output_type": "execute_result"
    }
   ],
   "source": [
    "tags[1].morph, tags[1].pos_"
   ]
  },
  {
   "cell_type": "code",
   "execution_count": 12,
   "metadata": {},
   "outputs": [
    {
     "data": {
      "text/plain": [
       "{'Aspect': 'Perf',\n",
       " 'Gender': 'Neut',\n",
       " 'Number': 'Sing',\n",
       " 'Tense': 'Past',\n",
       " 'Variant': 'Short',\n",
       " 'VerbForm': 'Part',\n",
       " 'Voice': 'Pass'}"
      ]
     },
     "execution_count": 12,
     "metadata": {},
     "output_type": "execute_result"
    }
   ],
   "source": [
    "tags[1].morph.to_dict()"
   ]
  },
  {
   "cell_type": "code",
   "execution_count": 31,
   "metadata": {},
   "outputs": [],
   "source": [
    "from yargy.morph import Case, Gender, Number, Grams, Form\n",
    "from yargy.token import Token\n",
    "from yargy.span import Span"
   ]
  },
  {
   "cell_type": "code",
   "execution_count": 14,
   "metadata": {},
   "outputs": [],
   "source": [
    "class UdCase(Case):\n",
    "    \n",
    "    def __init__(self, grams):\n",
    "        self.mask = [\n",
    "            (_ in grams)\n",
    "            for _ in ['Nom', 'Gen', 'Dat', 'Acc', 'Abl', 'Loc', 'Voc']\n",
    "        ]\n",
    "        self.fixed = False"
   ]
  },
  {
   "cell_type": "code",
   "execution_count": 15,
   "metadata": {},
   "outputs": [],
   "source": [
    "class UdGender(Gender):\n",
    "    def __init__(self, grams):\n",
    "        self.male = 'Masc' in grams\n",
    "        self.female = 'Fem' in grams\n",
    "        self.neutral = 'Neut' in grams\n",
    "        # https://github.com/OpenCorpora/opencorpora/issues/795\n",
    "        self.bi = False\n",
    "        self.general = 'Com' in grams"
   ]
  },
  {
   "cell_type": "code",
   "execution_count": 16,
   "metadata": {},
   "outputs": [],
   "source": [
    "class UdNumber(Number):\n",
    "    def __init__(self, grams):\n",
    "        self.single = 'Sing' in grams\n",
    "        self.plural = 'Plur' in grams\n",
    "        self.only_single = 'Stan' in grams # not actually exists in universal dependencies\n",
    "        self.only_plural = 'Ptan' in grams"
   ]
  },
  {
   "cell_type": "code",
   "execution_count": 17,
   "metadata": {},
   "outputs": [],
   "source": [
    "class UdGrams(Grams):\n",
    "\n",
    "    def __init__(self, values):\n",
    "        self.values = values\n",
    "\n",
    "    @property\n",
    "    def gender(self):\n",
    "        return UdGender(self)\n",
    "\n",
    "    @property\n",
    "    def number(self):\n",
    "        return UdNumber(self)\n",
    "\n",
    "    @property\n",
    "    def case(self):\n",
    "        return UdCase(self)\n",
    "\n",
    "    def __contains__(self, value):\n",
    "        return value in self.values\n",
    "\n",
    "    def __repr__(self):\n",
    "        values = sorted(self.values)\n",
    "        return 'Grams({values})'.format(\n",
    "            values=','.join(values)\n",
    "        )\n",
    "\n",
    "    def _repr_pretty_(self, printer, cycle):\n",
    "        printer.text(repr(self))"
   ]
  },
  {
   "cell_type": "code",
   "execution_count": 56,
   "metadata": {},
   "outputs": [],
   "source": [
    "class UdForm(Form):\n",
    "    \n",
    "    def __init__(self, normalized, grams):\n",
    "        self.normalized = normalized\n",
    "        self.grams = grams\n",
    "\n",
    "    def __repr__(self):\n",
    "        return 'Form({self.normalized!r}, {self.grams!r})'.format(self=self)\n",
    "\n",
    "    def _repr_pretty_(self, printer, cycle):\n",
    "        printer.text(repr(self))"
   ]
  },
  {
   "cell_type": "code",
   "execution_count": 37,
   "metadata": {},
   "outputs": [],
   "source": [
    "import re"
   ]
  },
  {
   "cell_type": "code",
   "execution_count": 45,
   "metadata": {},
   "outputs": [
    {
     "data": {
      "text/plain": [
       "False"
      ]
     },
     "execution_count": 45,
     "metadata": {},
     "output_type": "execute_result"
    }
   ],
   "source": [
    "re.match(r'[\\n\\r]+', tags[0].text) is not None"
   ]
  },
  {
   "cell_type": "code",
   "execution_count": 55,
   "metadata": {},
   "outputs": [
    {
     "data": {
      "text/plain": [
       "'PRON'"
      ]
     },
     "execution_count": 55,
     "metadata": {},
     "output_type": "execute_result"
    }
   ],
   "source": [
    "tags[0].pos_"
   ]
  },
  {
   "cell_type": "code",
   "execution_count": 54,
   "metadata": {},
   "outputs": [
    {
     "data": {
      "text/plain": [
       "frozenset({'Inan', 'Neut', 'Nom', 'Sing'})"
      ]
     },
     "execution_count": 54,
     "metadata": {},
     "output_type": "execute_result"
    }
   ],
   "source": [
    "frozenset(tags[0].morph.to_dict().values())"
   ]
  },
  {
   "cell_type": "code",
   "execution_count": 73,
   "metadata": {},
   "outputs": [],
   "source": [
    "from yargy.tokenizer import Tokenizer, RULES"
   ]
  },
  {
   "cell_type": "code",
   "execution_count": 91,
   "metadata": {},
   "outputs": [],
   "source": [
    "class MorphImitator():\n",
    "    \n",
    "    def check_gram(self, gram):\n",
    "        pass\n",
    "\n",
    "\n",
    "class UdMorphTokenizer(Tokenizer):\n",
    "    def __init__(self, model):\n",
    "        super(UdMorphTokenizer, self).__init__(RULES)\n",
    "        self.model = model\n",
    "        self.morph = MorphImitator()\n",
    "        \n",
    "    def get_token_type(self, token):\n",
    "        if token.is_ascii:\n",
    "            return \"LATIN\"\n",
    "        elif token.is_digit:\n",
    "            return \"INT\"\n",
    "        elif token.is_punct:\n",
    "            return \"PUNCT\"\n",
    "        elif re.match(r'[\\n\\r]+', token.text) is not None:\n",
    "            return \"EOL\"\n",
    "        elif re.match(r'[а-яёЁА-Я]+', token.text) is not None:\n",
    "            return \"RU\"\n",
    "        else:\n",
    "            return \"OTHER\"\n",
    "        \n",
    "    def tokenize(self, doc):\n",
    "        for token in doc:\n",
    "            span = Span(token.idx, token.idx + len(token.text))\n",
    "            token_type = self.get_token_type(token)\n",
    "            yield token, Token(token.text, span, token_type)\n",
    "            \n",
    "    def get_morph(self, token):\n",
    "        pos = token.pos_\n",
    "        norm = token.norm_\n",
    "        features = set(token.morph.to_dict().values())\n",
    "        features.add(pos)\n",
    "        grams = UdGrams(features)\n",
    "        return UdForm(norm, grams)\n",
    "        \n",
    "\n",
    "    def __call__(self, text):\n",
    "        tokens = self.tokenize(self.model(text))\n",
    "        for spacy_token, yargy_token in tokens:\n",
    "            if yargy_token.type == \"RU\":\n",
    "                forms = self.get_morph(spacy_token)\n",
    "                yield yargy_token.morphed([forms])\n",
    "            else:\n",
    "                yield yargy_token"
   ]
  },
  {
   "cell_type": "code",
   "execution_count": 92,
   "metadata": {},
   "outputs": [],
   "source": [
    "import yargy as y\n",
    "import yargy.predicates as yp"
   ]
  },
  {
   "cell_type": "code",
   "execution_count": 93,
   "metadata": {},
   "outputs": [],
   "source": [
    "udtokenizer = UdMorphTokenizer(model)"
   ]
  },
  {
   "cell_type": "code",
   "execution_count": 94,
   "metadata": {},
   "outputs": [],
   "source": [
    "rule = y.rule(\n",
    "    y.and_(\n",
    "        yp.gram(\"VERB\"),\n",
    "        yp.gram(\"Neut\")\n",
    "    )\n",
    ")"
   ]
  },
  {
   "cell_type": "code",
   "execution_count": 95,
   "metadata": {},
   "outputs": [],
   "source": [
    "parser = y.Parser(rule, tokenizer=udtokenizer)"
   ]
  },
  {
   "cell_type": "code",
   "execution_count": 97,
   "metadata": {},
   "outputs": [],
   "source": [
    "parse = list(parser.findall(\"Всё решено!\"))"
   ]
  },
  {
   "cell_type": "code",
   "execution_count": 98,
   "metadata": {},
   "outputs": [
    {
     "data": {
      "text/plain": [
       "[Match(\n",
       "     tokens=[MorphToken(\n",
       "          value='решено',\n",
       "          span=[4, 10),\n",
       "          type='RU',\n",
       "          forms=[Form('решено', Grams(Neut,Part,Pass,Past,Perf,Short,Sing,VERB))]\n",
       "      )],\n",
       "     span=[4, 10)\n",
       " )]"
      ]
     },
     "execution_count": 98,
     "metadata": {},
     "output_type": "execute_result"
    }
   ],
   "source": [
    "parse"
   ]
  },
  {
   "cell_type": "code",
   "execution_count": null,
   "metadata": {},
   "outputs": [],
   "source": []
  }
 ],
 "metadata": {
  "kernelspec": {
   "display_name": "Python 3",
   "language": "python",
   "name": "python3"
  },
  "language_info": {
   "codemirror_mode": {
    "name": "ipython",
    "version": 3
   },
   "file_extension": ".py",
   "mimetype": "text/x-python",
   "name": "python",
   "nbconvert_exporter": "python",
   "pygments_lexer": "ipython3",
   "version": "3.8.5"
  }
 },
 "nbformat": 4,
 "nbformat_minor": 4
}
